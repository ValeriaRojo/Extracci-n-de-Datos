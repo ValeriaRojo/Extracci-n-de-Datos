{
 "cells": [
  {
   "cell_type": "code",
   "execution_count": 1,
   "metadata": {},
   "outputs": [],
   "source": [
    "import pandas as pd\n",
    "import numpy as np\n",
    "import matplotlib.pyplot as plt\n",
    "import seaborn as sns"
   ]
  },
  {
   "cell_type": "code",
   "execution_count": null,
   "metadata": {},
   "outputs": [],
   "source": [
    "df= pd.read_excel('Detalle precios y productos fabricados 2022.xlsx')\n",
    "df"
   ]
  },
  {
   "cell_type": "code",
   "execution_count": 44,
   "metadata": {},
   "outputs": [],
   "source": [
    "#Se filtra solo los datos en donde el NOMBRE_CLIENTE es ELICAMEX.\n",
    "filtro1= df[(df[\"NOMBRE_CLIENTE\"] == \"ELICAMEX\")]\n",
    "filtro1\n",
    "filtro1.to_csv(\"Filtro1.csv\")"
   ]
  },
  {
   "cell_type": "code",
   "execution_count": 36,
   "metadata": {},
   "outputs": [],
   "source": [
    "#En el primer filtro se filtran las filas 2, 3 y 4. Y se seleccionarán todas las columnas.\n",
    "#filtro2= df.iloc[2:5, :]\n",
    "#En el segundo filtro se filtran las filas que están exactamente en las posiciones 2 y 5. Y se seleccionarán todas las columnas.\n",
    "filtro2= df.iloc[[2, 5], :]\n",
    "filtro2\n",
    "filtro2.to_csv(\"Filtro2.csv\")\n"
   ]
  },
  {
   "cell_type": "code",
   "execution_count": null,
   "metadata": {},
   "outputs": [],
   "source": [
    "#En el 1er filtro se seleccionarán todas las filas. Del 1:5 indica que se seleccionarán las columnas desde la posición 1 hasta la 4.\n",
    "#filtro3= df.iloc[: , 1:5]\n",
    "#En el 2do filtro se seleccionarán todas las filas. Y se seleccionan solo las columnas 1, 2 y 4. (No consecutivo)\n",
    "filtro3= df.iloc[: , [1, 2, 4]]\n",
    "filtro3\n",
    "filtro3.to_csv(\"Filtro3.csv\")"
   ]
  },
  {
   "cell_type": "code",
   "execution_count": null,
   "metadata": {},
   "outputs": [],
   "source": [
    "df1= pd.read_excel('Detalle precios y productos fabricados 2022.xlsx', index_col=1)\n",
    "df1"
   ]
  },
  {
   "cell_type": "code",
   "execution_count": 73,
   "metadata": {},
   "outputs": [
    {
     "name": "stdout",
     "output_type": "stream",
     "text": [
      "DatetimeIndex(['2022-01-05', '2022-01-05', '2022-01-05', '2022-01-05',\n",
      "               '2022-01-05', '2022-01-05', '2022-01-05', '2022-01-05',\n",
      "               '2022-01-05', '2022-01-05',\n",
      "               ...\n",
      "               '2022-12-23', '2022-12-23', '2022-12-23', '2022-12-23',\n",
      "               '2022-12-23', '2022-12-23', '2022-12-23', '2022-12-23',\n",
      "               '2022-12-23', '2022-12-23'],\n",
      "              dtype='datetime64[ns]', name='FECHA_DOC', length=1426, freq=None)\n"
     ]
    }
   ],
   "source": [
    "#Imprimimos las etiquetas del índice.\n",
    "print(df1.index)"
   ]
  },
  {
   "cell_type": "code",
   "execution_count": 58,
   "metadata": {},
   "outputs": [],
   "source": [
    "#Especificamos las etiquetas de las filas que queremos seleccionar (1), buscamos las filas en las cuales el índice tenga los valores de\n",
    "#las fechas escritas. La otra parte, nos indica que solo se seleccionará la columna de PRECIO_UNITARIO.\n",
    "filtro4= df1.loc[[\"2022-01-05\", \"2022-12-23\"], [\"PRECIO_UNITARIO\"]]\n",
    "filtro4\n",
    "filtro4.to_csv(\"Filtro4.csv\")"
   ]
  },
  {
   "cell_type": "code",
   "execution_count": null,
   "metadata": {},
   "outputs": [],
   "source": [
    "#Este filtro nos muestra las primeras 5 filas.\n",
    "filtro5= df.head()\n",
    "filtro5\n",
    "filtro5.to_csv(\"Filtro5.csv\")"
   ]
  },
  {
   "cell_type": "code",
   "execution_count": null,
   "metadata": {},
   "outputs": [],
   "source": [
    "#Este filtro nos muestra las últimas 5 filas del df.\n",
    "filtro6= df.tail()\n",
    "filtro6\n",
    "filtro6.to_csv(\"Filtro6.csv\")"
   ]
  },
  {
   "cell_type": "code",
   "execution_count": 65,
   "metadata": {},
   "outputs": [],
   "source": [
    "#Seleccionamos las filas en las que el valor de la columna CANT sea menor a 4.\n",
    "filtro7= df[df[\"CANT\"] < 4]\n",
    "filtro7\n",
    "filtro7.to_csv(\"Filtro7.csv\")"
   ]
  },
  {
   "cell_type": "code",
   "execution_count": null,
   "metadata": {},
   "outputs": [],
   "source": [
    "#Seleccionamos las filas en las que el valor de la columna CANT sea menor a 4 y el NOMBRE_VENDEDOR sea igual a ALFREDO CANELA.\n",
    "filtro8= df[(df[\"CANT\"] < 4) & (df[\"NOMBRE_VENDEDOR\"] == \"ALFREDO CANELA\")]\n",
    "filtro8\n",
    "filtro8.to_csv(\"Filtro8.csv\")"
   ]
  },
  {
   "cell_type": "code",
   "execution_count": null,
   "metadata": {},
   "outputs": [],
   "source": [
    "#Seleccionamos las filas en las que el valor de la columna CANT sea menor a 4 o el NOMBRE_VENDEDOR sea igual a ALFREDO CANELA.\n",
    "filtro9= df[(df[\"CANT\"] < 4) | (df[\"NOMBRE_VENDEDOR\"] == \"ALFREDO CANELA\")]\n",
    "filtro9\n",
    "filtro9.to_csv(\"Filtro9.csv\")"
   ]
  },
  {
   "cell_type": "code",
   "execution_count": null,
   "metadata": {},
   "outputs": [],
   "source": [
    "#Pedimos que nos filtre todas las filas en las que la columna del NOMBRE_VENDEDOR no sea igual a DIEGO ARMANDO LEON DURAN.\n",
    "filtro10= df[~(df[\"NOMBRE_VENDEDOR\"] == \"DIEGO ARMANDO LEON DURAN\")]\n",
    "filtro10\n",
    "filtro10.to_csv(\"Filtro10.csv\")"
   ]
  }
 ],
 "metadata": {
  "kernelspec": {
   "display_name": "Python 3",
   "language": "python",
   "name": "python3"
  },
  "language_info": {
   "codemirror_mode": {
    "name": "ipython",
    "version": 3
   },
   "file_extension": ".py",
   "mimetype": "text/x-python",
   "name": "python",
   "nbconvert_exporter": "python",
   "pygments_lexer": "ipython3",
   "version": "3.13.1"
  }
 },
 "nbformat": 4,
 "nbformat_minor": 2
}
