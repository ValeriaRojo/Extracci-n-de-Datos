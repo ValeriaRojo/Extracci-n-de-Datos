{
 "cells": [
  {
   "cell_type": "code",
   "execution_count": null,
   "metadata": {},
   "outputs": [],
   "source": [
    "EXTRACCIÓN DE DATOS (EVALUACIÓN). PAÍS SELECCIONADO: BOSTON. MASSACHUSETS, UNITED STATES"
   ]
  },
  {
   "cell_type": "code",
   "execution_count": 1,
   "metadata": {},
   "outputs": [],
   "source": [
    "import pandas as pd\n",
    "import numpy as np\n",
    "import matplotlib.pyplot as plt\n",
    "import seaborn as sns"
   ]
  },
  {
   "cell_type": "code",
   "execution_count": null,
   "metadata": {},
   "outputs": [],
   "source": [
    "df= pd.read_excel('País.xlsx')\n",
    "df"
   ]
  },
  {
   "cell_type": "code",
   "execution_count": 39,
   "metadata": {},
   "outputs": [],
   "source": [
    "#Convertimos el formato de la fecha para que podamos extraer  los datos de manera correcta\n",
    "df['host_since'] = pd.to_datetime(df['host_since'], format='%d/%m/%Y')"
   ]
  },
  {
   "cell_type": "code",
   "execution_count": 41,
   "metadata": {},
   "outputs": [],
   "source": [
    "nombres_a_filtrar = df['host_name'].unique()[:5]"
   ]
  },
  {
   "cell_type": "code",
   "execution_count": 44,
   "metadata": {},
   "outputs": [],
   "source": [
    "filtroA= df[df['host_name'].isin(nombres_a_filtrar)]\n",
    "filtroA\n",
    "filtroA.to_csv(\"FiltroA.csv\")"
   ]
  },
  {
   "cell_type": "code",
   "execution_count": 45,
   "metadata": {},
   "outputs": [],
   "source": [
    "#Filtramos que las fechas en las que se unieron los host sean antes del 2019\n",
    "filtroB= df[(df[\"host_since\"] < '2019-01-01')]\n",
    "filtroB\n",
    "filtroB.to_csv(\"FiltroB.csv\")"
   ]
  },
  {
   "cell_type": "code",
   "execution_count": null,
   "metadata": {},
   "outputs": [],
   "source": [
    "#Que el tiempo de respuesta de los host sea a más tardar en un día\n",
    "filtroC= df[(df[\"host_response_time\"] == 'within a few hours') | (df[\"host_response_time\"] == \"within an hour\") | (df[\"host_response_time\"] == \"within a day\")]\n",
    "filtroC\n",
    "filtroC.to_csv(\"FiltroC.csv\")"
   ]
  },
  {
   "cell_type": "code",
   "execution_count": null,
   "metadata": {},
   "outputs": [],
   "source": [
    "#Que tengan al menos 5 acommodates\n",
    "filtroD= df[(df[\"accommodates\"] >= 5)]\n",
    "filtroD\n",
    "filtroD.to_csv(\"FiltroD.csv\")"
   ]
  },
  {
   "cell_type": "code",
   "execution_count": 28,
   "metadata": {},
   "outputs": [],
   "source": [
    "#Los tipos de cuarto, ponemos un or para que registre ambas opciones, ya que con un & tendía que tomar ambos valores y no sería posible porque no se encuentran en la misma casilla\n",
    "filtroE= df[(df[\"room_type\"] == 'Entire home/apt') | (df[\"room_type\"] == 'Private room')]\n",
    "filtroE\n",
    "filtroE.to_csv(\"FiltroE.csv\")"
   ]
  },
  {
   "cell_type": "code",
   "execution_count": 26,
   "metadata": {},
   "outputs": [],
   "source": [
    "#A lo mucho cuenten con 4 camas\n",
    "filtroF= df[(df[\"beds\"] <= 4)]\n",
    "filtroF\n",
    "filtroF.to_csv(\"FiltroF.csv\")"
   ]
  },
  {
   "cell_type": "code",
   "execution_count": 38,
   "metadata": {},
   "outputs": [],
   "source": [
    "#Tengan un baño o sean super host pero con la condición de que sean instat bookable (por eso en esta parte se pone un &)\n",
    "filtroG= df[(df[\"bathrooms\"] == 1) | (df[\"host_is_superhost\"] == 't') & (df[\"instant_bookable\"] == 't')]\n",
    "filtroG\n",
    "filtroG.to_csv(\"FiltroG.csv\")"
   ]
  },
  {
   "cell_type": "code",
   "execution_count": 34,
   "metadata": {},
   "outputs": [],
   "source": [
    "filtroH= df[(df[\"review_scores_cleanliness\"] < 3) & (df[\"review_scores_rating\"] > 3)]\n",
    "filtroH\n",
    "filtroH.to_csv(\"FiltroH.csv\")"
   ]
  }
 ],
 "metadata": {
  "kernelspec": {
   "display_name": "Python 3",
   "language": "python",
   "name": "python3"
  },
  "language_info": {
   "codemirror_mode": {
    "name": "ipython",
    "version": 3
   },
   "file_extension": ".py",
   "mimetype": "text/x-python",
   "name": "python",
   "nbconvert_exporter": "python",
   "pygments_lexer": "ipython3",
   "version": "3.13.1"
  }
 },
 "nbformat": 4,
 "nbformat_minor": 2
}
