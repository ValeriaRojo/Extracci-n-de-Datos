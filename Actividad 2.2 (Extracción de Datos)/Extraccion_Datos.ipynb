{
 "cells": [
  {
   "cell_type": "code",
   "execution_count": 2,
   "metadata": {},
   "outputs": [],
   "source": [
    "import pandas as pd\n",
    "import numpy as np\n",
    "import matplotlib.pyplot as plt\n",
    "import seaborn as sns"
   ]
  },
  {
   "cell_type": "code",
   "execution_count": null,
   "metadata": {},
   "outputs": [],
   "source": [
    "df= pd.read_excel('Datos de Facturación.xlsx')\n",
    "df"
   ]
  },
  {
   "cell_type": "code",
   "execution_count": null,
   "metadata": {},
   "outputs": [],
   "source": [
    "df1= pd.read_excel('Datos de Facturación.xlsx', index_col=3)\n",
    "df1"
   ]
  },
  {
   "cell_type": "code",
   "execution_count": 48,
   "metadata": {},
   "outputs": [],
   "source": [
    "#Debido a que los datos CV_CLPC están en string, los convertimos a numéricos para q podamos realizar la comparación.\n",
    "df[\"CVE_CLPV\"] = pd.to_numeric(df[\"CVE_CLPV\"], errors=\"coerce\")"
   ]
  },
  {
   "cell_type": "code",
   "execution_count": 84,
   "metadata": {},
   "outputs": [],
   "source": [
    "#En este caso, convertimos la fecha en un formato correcto y que esté de acuerdo a la BD que tenemos.\n",
    "df[\"FECHA_ENT\"] = pd.to_datetime(df[\"FECHA_ENT\"], errors=\"coerce\", format=\"%d-%m-%y %H:%M\")"
   ]
  },
  {
   "cell_type": "code",
   "execution_count": 59,
   "metadata": {},
   "outputs": [
    {
     "name": "stdout",
     "output_type": "stream",
     "text": [
      "Index([1.0, 1.0, 1.0, 1.0, 2.0, 1.0, 2.0, 2.0, 2.0, 2.0,\n",
      "       ...\n",
      "       2.0, 2.0, 2.0, 2.0, 2.0, 2.0, 2.0, 2.0, 2.0, 2.0],\n",
      "      dtype='float64', name='CVE_VEND', length=10895)\n"
     ]
    }
   ],
   "source": [
    "print(df1.index)"
   ]
  },
  {
   "cell_type": "code",
   "execution_count": 46,
   "metadata": {},
   "outputs": [
    {
     "name": "stdout",
     "output_type": "stream",
     "text": [
      "Index(['CVE_DOC', 'CVE_CLPV', 'STATUS', 'CVE_VEND', 'FECHAELAB', 'FECHA_DOC',\n",
      "       'FECHA_ENT', 'FECHA_VEN', 'FECHA_CANCELA', 'CAN_TOT', 'DES_TOT',\n",
      "       'DES_FIN'],\n",
      "      dtype='object')\n"
     ]
    }
   ],
   "source": [
    "print(df.columns)"
   ]
  },
  {
   "cell_type": "code",
   "execution_count": 54,
   "metadata": {},
   "outputs": [],
   "source": [
    "#Filtramos los valores de CVE_CLPV que sean de 1000 a 2000 (incluyéndolos).\n",
    "filtro1 = df[(df[\"CVE_CLPV\"] >= 1000) & (df[\"CVE_CLPV\"] <= 2000)]\n",
    "filtro1\n",
    "filtro1.to_csv(\"Filtro1.csv\")"
   ]
  },
  {
   "cell_type": "code",
   "execution_count": 56,
   "metadata": {},
   "outputs": [],
   "source": [
    "#Filtramos todas las CVE_VEND a excepción del 4 y 5.\n",
    "filtro2= df[~((df[\"CVE_VEND\"] == 5) | (df[\"CVE_VEND\"] == 4))]\n",
    "filtro2\n",
    "filtro2.to_csv(\"Filtro2.csv\")"
   ]
  },
  {
   "cell_type": "code",
   "execution_count": 87,
   "metadata": {},
   "outputs": [],
   "source": [
    "#Que únicamente nos aparezcan los datos de las FECHA_ENT seleccionada.\n",
    "filtro3= df[(df[\"FECHA_ENT\"] == \"2022-02-28 00:00:00\")]\n",
    "filtro3\n",
    "filtro3.to_csv(\"Filtro3.csv\")"
   ]
  },
  {
   "cell_type": "code",
   "execution_count": 88,
   "metadata": {},
   "outputs": [],
   "source": [
    "#Muestra cantidades (CANT_TOT) a 5951.7 o que tengan STATUS \"E\".\n",
    "filtro4= df[(df[\"CAN_TOT\"] < 5951.7) | (df[\"STATUS\"] == \"E\")]\n",
    "filtro4\n",
    "filtro4.to_csv(\"Filtro4.csv\")"
   ]
  },
  {
   "cell_type": "code",
   "execution_count": 89,
   "metadata": {},
   "outputs": [],
   "source": [
    "#Muestra las columnas CVE_DOC, FECHA_ENT, FECHA_VEN y CAN_TOT (numérico).\n",
    "filtro5= df.iloc[: , [0, 6, 7, 9]]\n",
    "filtro5\n",
    "filtro5.to_csv(\"Filtro5.csv\")"
   ]
  },
  {
   "cell_type": "code",
   "execution_count": 90,
   "metadata": {},
   "outputs": [],
   "source": [
    "#Nos muestra las filas del 7001 al 7999.\n",
    "filtro6= df.iloc[7001:8000 , :]\n",
    "filtro6\n",
    "filtro6.to_csv(\"Filtro6.csv\")"
   ]
  },
  {
   "cell_type": "code",
   "execution_count": 91,
   "metadata": {},
   "outputs": [],
   "source": [
    "#Solo muestra los index con 1 y 2 y la columna de FECHAELAB.\n",
    "filtro7= df1.loc[[1, 2], [\"FECHAELAB\"]]\n",
    "filtro7\n",
    "filtro7.to_csv(\"Filtro7.csv\")"
   ]
  }
 ],
 "metadata": {
  "kernelspec": {
   "display_name": "Python 3",
   "language": "python",
   "name": "python3"
  },
  "language_info": {
   "codemirror_mode": {
    "name": "ipython",
    "version": 3
   },
   "file_extension": ".py",
   "mimetype": "text/x-python",
   "name": "python",
   "nbconvert_exporter": "python",
   "pygments_lexer": "ipython3",
   "version": "3.13.1"
  }
 },
 "nbformat": 4,
 "nbformat_minor": 2
}
